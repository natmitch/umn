{
 "cells": [
  {
   "cell_type": "code",
   "execution_count": null,
   "metadata": {},
   "outputs": [],
   "source": [
    "# Import Dependencies\n",
    "import pandas as pd"
   ]
  },
  {
   "cell_type": "code",
   "execution_count": null,
   "metadata": {},
   "outputs": [],
   "source": [
    "# Create a reference the CSV file desired\n",
    "csv_path = \"Resources/ufoSightings.csv\"\n",
    "\n",
    "# Read the CSV into a Pandas DataFrame\n",
    "ufo_df = pd.read_csv(csv_path, low_memory=False)\n",
    "\n",
    "# Print the first five rows of data to the screen\n",
    "ufo_df.head()"
   ]
  },
  {
   "cell_type": "code",
   "execution_count": null,
   "metadata": {},
   "outputs": [],
   "source": [
    "# Remove the rows with missing data\n",
    "clean_ufo_df = ufo_df.dropna(how=\"any\")\n",
    "clean_ufo_df.count()"
   ]
  },
  {
   "cell_type": "code",
   "execution_count": null,
   "metadata": {},
   "outputs": [],
   "source": [
    "# Converting the \"duration (seconds)\" column's values to numeric\n",
    "clean_ufo_df[\"duration (seconds)\"] = pd.to_numeric(\n",
    "    clean_ufo_df[\"duration (seconds)\"])"
   ]
  },
  {
   "cell_type": "code",
   "execution_count": null,
   "metadata": {},
   "outputs": [],
   "source": [
    "# Filter the data so that only those sightings in the US are in a DataFrame\n",
    "usa_ufo_df = clean_ufo_df.loc[clean_ufo_df[\"country\"] == \"us\", :]\n",
    "\n",
    "usa_ufo_df.head()"
   ]
  },
  {
   "cell_type": "code",
   "execution_count": null,
   "metadata": {},
   "outputs": [],
   "source": [
    "# Count how many sightings have occured within each state\n",
    "state_counts = usa_ufo_df[\"state\"].value_counts()\n",
    "state_counts.head()"
   ]
  },
  {
   "cell_type": "code",
   "execution_count": null,
   "metadata": {
    "scrolled": false
   },
   "outputs": [],
   "source": [
    "# ---------------------------------------------------------------------------\n",
    "# The df.groupby([Column]) method is used in order to split the DataFrame\n",
    "# into multiple groups with each group being a different state within the US.\n",
    "# ---------------------------------------------------------------------------\n",
    "\n",
    "# Using GroupBy in order to separate the data into fields according to \"state\" values\n",
    "grouped_usa_df = usa_ufo_df.groupby(['state'])\n",
    "\n",
    "# ---------------------------------------------------------------------------\n",
    "# The object returned by the .groupby() method is a GroupBy object and cannot\n",
    "# be accessed like a normal DataFrame. One of the only ways in which to\n",
    "# access values within a GroupBy object is by using a data function on it.\n",
    "# In order to be visualized, a data function must be used...\n",
    "# ---------------------------------------------------------------------------\n",
    "print(grouped_usa_df)\n",
    "grouped_usa_df.count().head(10)"
   ]
  },
  {
   "cell_type": "code",
   "execution_count": null,
   "metadata": {
    "scrolled": true
   },
   "outputs": [],
   "source": [
    "# Since \"duration (seconds)\" was converted to a numeric time,\n",
    "# it can now be summed up per state\n",
    "state_duration = grouped_usa_df[\"duration (seconds)\"].sum()\n",
    "state_duration.head()\n"
   ]
  },
  {
   "cell_type": "code",
   "execution_count": null,
   "metadata": {},
   "outputs": [],
   "source": [
    "# ---------------------------------------------------------------------------\n",
    "# It is possible to create new DataFrames using purely GroupBy data. This can\n",
    "# by done by taking the pd.DataFrame() method and passing the GroupBy data\n",
    "# desired in as the parameter\n",
    "# ---------------------------------------------------------------------------\n",
    "\n",
    "# Creating a new DataFrame using both duration and count\n",
    "state_summary_table = pd.DataFrame({\"Number of Sightings\": state_counts,\n",
    "                                    \"Total Visit Time\": state_duration})\n",
    "state_summary_table.head()"
   ]
  },
  {
   "cell_type": "code",
   "execution_count": null,
   "metadata": {
    "scrolled": false
   },
   "outputs": [],
   "source": [
    "# ---------------------------------------------------------------------------\n",
    "# It is possible to perform a df.groupby() method on multiple columns which\n",
    "# can be done by passing => 2 column references into the list parameter.\n",
    "#\n",
    "# This returns an object with multiple indexes which can increase complexity\n",
    "# ---------------------------------------------------------------------------\n",
    "\n",
    "grouped_international_data = clean_ufo_df.groupby(['country', 'state'])\n",
    "grouped_international_data.count().head(20)"
   ]
  },
  {
   "cell_type": "code",
   "execution_count": null,
   "metadata": {},
   "outputs": [],
   "source": [
    "# ---------------------------------------------------------------------------\n",
    "# A new dataframe can be created from a GroupBy object\n",
    "# ---------------------------------------------------------------------------\n",
    "# Converting a GroupBy object into a DataFrame\n",
    "international_duration = pd.DataFrame(\n",
    "    grouped_international_data[\"duration (seconds)\"].sum())\n",
    "\n",
    "international_duration.head(10)"
   ]
  }
 ],
 "metadata": {
  "kernelspec": {
   "display_name": "Python 3",
   "language": "python",
   "name": "python3"
  },
  "language_info": {
   "codemirror_mode": {
    "name": "ipython",
    "version": 3
   },
   "file_extension": ".py",
   "mimetype": "text/x-python",
   "name": "python",
   "nbconvert_exporter": "python",
   "pygments_lexer": "ipython3",
   "version": "3.7.0"
  }
 },
 "nbformat": 4,
 "nbformat_minor": 2
}
